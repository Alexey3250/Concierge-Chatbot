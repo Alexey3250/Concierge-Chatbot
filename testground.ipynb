{
 "cells": [
  {
   "cell_type": "code",
   "execution_count": 48,
   "metadata": {},
   "outputs": [
    {
     "name": "stdout",
     "output_type": "stream",
     "text": [
      "Thread ID: thread_P2fVLo2pX8NOTs5YQB7d37sI\n",
      "Run ID: run_UDaVBqc4UDwTYX20XgLN96N8\n",
      "--------------------\n",
      "Run is still in progress... Current status: in_progress\n",
      "Run is still in progress... Current status: in_progress\n",
      "Run is still in progress... Current status: in_progress\n",
      "Run is completed.\n",
      "--------------------\n",
      "Assistant: Клиент хочет тур в Дубай на 1 день на новый год, чтобы посмотреть фейерверк.\n",
      "\n",
      "- Направление: Дубай\n",
      "- Количество взрослых: 1\n",
      "- Дети: Нет\n",
      "- Нужен ли прямой трансфер из Москвы в отель в Дубае\n",
      "- Предпочтение по аэропорту вылета: Нет\n",
      "- Предпочтение по обратной связи: телефон\n",
      "\n",
      "Tips для менеджера: Уточнить детали о прямом трансфере из Москвы в отель и предложить оптимальные варианты для просмотра фейерверка.\n"
     ]
    }
   ],
   "source": [
    "# Connect to openai \n",
    "\n",
    "import openai\n",
    "import os\n",
    "import time\n",
    "\n",
    "openai.api_key = os.getenv(\"OPENAI_API_KEY\")\n",
    "client = openai.Client()\n",
    "assistant = client.beta.assistants.retrieve(\"asst_kCSrKaHjh589gbKr2fphQ93T\")\n",
    "\n",
    "\n",
    "# Open the file and read its contents\n",
    "with open(\"message_thread.txt\", 'r', encoding='utf-8') as file:\n",
    "    message_to_send = file.read()\n",
    "    \n",
    "thread = client.beta.threads.create()\n",
    "\n",
    "message = client.beta.threads.messages.create(\n",
    "    thread_id=thread.id,\n",
    "    role=\"user\",\n",
    "    content=message_to_send\n",
    ")\n",
    "\n",
    "run = client.beta.threads.runs.create(\n",
    "    thread_id=thread.id,\n",
    "    assistant_id=assistant.id\n",
    ")\n",
    "\n",
    "def check_run_status(client, thread_id, run_id):\n",
    "    try:\n",
    "        run = client.beta.threads.runs.retrieve(thread_id=thread_id, run_id=run_id)\n",
    "        return run.status  # Access the status attribute directly\n",
    "    except Exception as e:\n",
    "        print(f\"Error retrieving run: {e}\")\n",
    "        return None\n",
    "\n",
    "def wait_for_run_completion(client, thread_id, run_id, interval=0.5):\n",
    "    while True:\n",
    "        status = check_run_status(client, thread_id, run_id)\n",
    "        if status == 'completed':\n",
    "            print(\"Run is completed.\")\n",
    "            break\n",
    "        elif status in ['failed', 'cancelled']:\n",
    "            print(f\"Run {status}.\")\n",
    "            break\n",
    "        else:\n",
    "            print(f\"Run is still in progress... Current status: {status}\")\n",
    "            time.sleep(interval)\n",
    "\n",
    "\n",
    "# Get the thread ID and run ID\n",
    "thread_id = thread.id\n",
    "run_id = run.id\n",
    "\n",
    "print(f\"Thread ID: {thread_id}\")\n",
    "print(f\"Run ID: {run_id}\")\n",
    "# print the separator\n",
    "print(\"-\" * 20)\n",
    "\n",
    "# Wait for the run to complete\n",
    "wait_for_run_completion(client, thread_id, run_id)\n",
    "\n",
    "# print the separator\n",
    "print(\"-\" * 20)\n",
    "\n",
    "messages = client.beta.threads.messages.list(\n",
    "    thread_id=thread.id\n",
    ")\n",
    "\n",
    "# Variable to store the last assistant's response\n",
    "last_assistant_response = \"\"\n",
    "\n",
    "for message in messages.data:\n",
    "    # Check if the message is from the assistant and has content\n",
    "    if message.role == \"assistant\" and message.content:\n",
    "        # Assuming the first item in content is a text object\n",
    "        text_content = message.content[0].text\n",
    "        if text_content:\n",
    "            # Print and store the message text value\n",
    "            last_assistant_response = text_content.value\n",
    "            print(f\"Assistant: {last_assistant_response}\")  # Print the value"
   ]
  },
  {
   "cell_type": "code",
   "execution_count": 50,
   "metadata": {},
   "outputs": [
    {
     "data": {
      "text/plain": [
       "'message_to_send = \"User Привет ИИ - Консьерж Здравствуйте! Как я могу помочь вам сегодня? User Мне нужно поехать в дубай ИИ - Консьерж Отличный выбор! Дубай - замечательное место для путешествия. Это будет тур или вы заинтересованы в бронировании отдельных услуг?\\n\\nUser Тур\\n\\nИИ - Консьерж Прекрасно! Для начала, могли бы вы уточнить, на какие даты вы планируете поездку в Дубай? И насколько долго вы хотели бы там остаться?\\n\\nUser на 1 день на новый год, мне нравится стоять в пробке чтобы посмотреть фейерверк\\n\\nИИ - Консьерж Поездка в Дубай на Новый год звучит восхитительно! Для более точного подбора тура мне нужно знать, сколько вас будет взрослых и есть ли среди путешественников дети? Если есть дети, сообщите, пожалуйста, их возраст.\\n\\nUser 1 взрослый\\n\\nИИ - Консьерж Отлично, спасибо за информацию. Могу я узнать, предпочитаете ли вы прямой трансфер в отель после прибытия в Дубай?\\n\\nUser прямой трансфер из москвы, отель без разницы какой, нужно такси до отеля\\n\\nИИ - Консьерж Понял вас. Рассматривая ваши предпочтения, последний вопрос: есть ли у вас определённые пожелания к аэропорту вылета из Москвы?\\n\\nUser нет\\n\\nИИ - Консьерж Хорошо, я собрал всю необходимую информацию для составления вашего тура в Дубай на Новый год. Спасибо за ваш запрос, я передам его нашей команде, и наши специалисты свяжутся с вами в ближайшее время. Как вам будет удобнее получить обратную связь: по телефону или электронной почте?\\n\\nUser По телефону +971 69420395\\n\\nИИ - Консьерж Спасибо за предоставленную информацию. Мы свяжемся с вами по указанному телефону +971 69420395 для уточнения деталей и подтверждения вашего тура в Дубай. Если у вас возникнут вопросы до этого времени, не стесняйтесь обращаться. Хорошего вам дня!\"'"
      ]
     },
     "execution_count": 50,
     "metadata": {},
     "output_type": "execute_result"
    }
   ],
   "source": [
    "message_to_send"
   ]
  },
  {
   "cell_type": "markdown",
   "metadata": {},
   "source": [
    "# API work\n",
    "\n",
    "FastAPI\n",
    "\n",
    "## Chaetbot API part\n",
    "- imput we will receive the **user_id**, **thread_id** and the initial **message**\n",
    "    - output we will send the message to the user and the **thread_id**\n",
    "Here we will use cahtconsierge assistant asst_CjvyFIeraCLKB8NTAqF0FhqG\n",
    "\n",
    "## Sumariser part\n",
    "- input we will receive the **message** and the **thread_id**\n",
    "    - output we will send the **summary** and the **thread_id**\n",
    "\n",
    "here we will use the summariser assistant asst_kCSrKaHjh589gbKr2fphQ93T"
   ]
  },
  {
   "cell_type": "markdown",
   "metadata": {},
   "source": []
  }
 ],
 "metadata": {
  "kernelspec": {
   "display_name": "Python 3",
   "language": "python",
   "name": "python3"
  },
  "language_info": {
   "codemirror_mode": {
    "name": "ipython",
    "version": 3
   },
   "file_extension": ".py",
   "mimetype": "text/x-python",
   "name": "python",
   "nbconvert_exporter": "python",
   "pygments_lexer": "ipython3",
   "version": "3.10.11"
  }
 },
 "nbformat": 4,
 "nbformat_minor": 2
}
